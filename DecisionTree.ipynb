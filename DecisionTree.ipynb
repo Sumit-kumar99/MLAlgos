{
  "nbformat": 4,
  "nbformat_minor": 0,
  "metadata": {
    "colab": {
      "provenance": []
    },
    "kernelspec": {
      "name": "python3",
      "display_name": "Python 3"
    },
    "language_info": {
      "name": "python"
    }
  },
  "cells": [
    {
      "cell_type": "markdown",
      "source": [
        "## Implementing Decision Trees for iris species:"
      ],
      "metadata": {
        "id": "btuzDjMoMbmT"
      }
    },
    {
      "cell_type": "markdown",
      "source": [
        "## Libraries"
      ],
      "metadata": {
        "id": "2Q5DYiPkvcBf"
      }
    },
    {
      "cell_type": "code",
      "source": [
        "import pandas as pd\n",
        "import numpy as np\n",
        "import matplotlib.pyplot as plt\n",
        "from sklearn.model_selection import train_test_split\n",
        "from collections import Counter\n",
        "import math\n",
        "from sklearn.metrics import accuracy_score, precision_score, recall_score, f1_score"
      ],
      "metadata": {
        "id": "aTGNIcoawHx0"
      },
      "execution_count": 19,
      "outputs": []
    },
    {
      "cell_type": "markdown",
      "source": [
        "## 1. Data Preparation"
      ],
      "metadata": {
        "id": "ISY52kSZ7MNh"
      }
    },
    {
      "cell_type": "code",
      "execution_count": 20,
      "metadata": {
        "id": "G7VXMEYgvE-0"
      },
      "outputs": [],
      "source": [
        "df = pd.read_csv('iris.csv')\n",
        "X = df.drop('species', axis=1).values\n",
        "y = df['species'].values\n",
        "\n",
        "X_train, X_test, y_train, y_test = train_test_split(X, y, test_size=0.33, random_state=55)"
      ]
    },
    {
      "cell_type": "markdown",
      "source": [
        "## 2. Calculating Impurity Measure"
      ],
      "metadata": {
        "id": "Fq6OySTUwAFc"
      }
    },
    {
      "cell_type": "code",
      "source": [
        "def entropy(y):\n",
        "    counter = Counter(y)\n",
        "    total = len(y)\n",
        "    ent = -sum((count / total) * math.log2(count / total) for count in counter.values())\n",
        "    return ent\n",
        "\n",
        "def gini_impurity(y):\n",
        "    counter = Counter(y)\n",
        "    total = len(y)\n",
        "    gini = 1 - sum((count / total) ** 2 for count in counter.values())\n",
        "    return gini\n",
        "\n",
        "def information_gain(y, y_left, y_right, criterion='entropy'):\n",
        "    if criterion == 'entropy':\n",
        "        parent_entropy = entropy(y)\n",
        "        left_entropy = entropy(y_left)\n",
        "        right_entropy = entropy(y_right)\n",
        "    elif criterion == 'gini':\n",
        "        parent_entropy = gini_impurity(y)\n",
        "        left_entropy = gini_impurity(y_left)\n",
        "        right_entropy = gini_impurity(y_right)\n",
        "\n",
        "    weight_left = len(y_left) / len(y)\n",
        "    weight_right = len(y_right) / len(y)\n",
        "\n",
        "    gain = parent_entropy - (weight_left * left_entropy + weight_right * right_entropy)\n",
        "    return gain"
      ],
      "metadata": {
        "id": "AAXGgWzPviKh"
      },
      "execution_count": 12,
      "outputs": []
    },
    {
      "cell_type": "markdown",
      "source": [
        "## 3. Splitting Nodes"
      ],
      "metadata": {
        "id": "KikQnbbRwigP"
      }
    },
    {
      "cell_type": "code",
      "source": [
        "def split_data(X, y, feature_index, threshold):\n",
        "    left_indices = np.where(X[:, feature_index] <= threshold)[0]\n",
        "    right_indices = np.where(X[:, feature_index] > threshold)[0]\n",
        "    return X[left_indices], X[right_indices], y[left_indices], y[right_indices]"
      ],
      "metadata": {
        "id": "-FMydGmewndW"
      },
      "execution_count": 13,
      "outputs": []
    },
    {
      "cell_type": "markdown",
      "source": [
        "## 4. Building Tree"
      ],
      "metadata": {
        "id": "J_pF_EP7xkmz"
      }
    },
    {
      "cell_type": "code",
      "source": [
        "class DecisionTree:\n",
        "    def __init__(self, criterion='entropy', max_depth=None):\n",
        "        self.criterion = criterion\n",
        "        self.max_depth = max_depth\n",
        "        self.tree = None\n",
        "\n",
        "    def fit(self, X, y):\n",
        "        self.tree = self._build_tree(X, y, depth=0)\n",
        "\n",
        "    def _best_split(self, X, y):\n",
        "        best_gain = -1\n",
        "        best_split = None\n",
        "        n_features = X.shape[1]\n",
        "\n",
        "        for feature_index in range(n_features):\n",
        "            thresholds = np.unique(X[:, feature_index])\n",
        "            for threshold in thresholds:\n",
        "                X_left, X_right, y_left, y_right = split_data(X, y, feature_index, threshold)\n",
        "\n",
        "                if len(y_left) == 0 or len(y_right) == 0:\n",
        "                    continue\n",
        "\n",
        "                gain = information_gain(y, y_left, y_right, criterion=self.criterion)\n",
        "\n",
        "                if gain > best_gain:\n",
        "                    best_gain = gain\n",
        "                    best_split = {\n",
        "                        'feature_index': feature_index,\n",
        "                        'threshold': threshold,\n",
        "                        'left': (X_left, y_left),\n",
        "                        'right': (X_right, y_right)\n",
        "                    }\n",
        "\n",
        "        return best_split\n",
        "\n",
        "    def _build_tree(self, X, y, depth):\n",
        "        if depth == self.max_depth or len(set(y)) == 1:\n",
        "            return Counter(y).most_common(1)[0][0]\n",
        "\n",
        "        best_split = self._best_split(X, y)\n",
        "        if not best_split:\n",
        "            return Counter(y).most_common(1)[0][0]\n",
        "\n",
        "        left_subtree = self._build_tree(*best_split['left'], depth + 1)\n",
        "        right_subtree = self._build_tree(*best_split['right'], depth + 1)\n",
        "\n",
        "        return {\n",
        "            'feature_index': best_split['feature_index'],\n",
        "            'threshold': best_split['threshold'],\n",
        "            'left': left_subtree,\n",
        "            'right': right_subtree\n",
        "        }\n",
        "\n",
        "    def _predict(self, inputs, node):\n",
        "      if not isinstance(node, dict):\n",
        "          return node\n",
        "\n",
        "      feature_index = node['feature_index']\n",
        "      threshold = node['threshold']\n",
        "\n",
        "      if inputs[feature_index] <= threshold:\n",
        "          return self._predict(inputs, node['left'])\n",
        "      else:\n",
        "          return self._predict(inputs, node['right'])\n",
        "\n",
        "    def predict(self, X):\n",
        "        return [self._predict(inputs, self.tree) for inputs in X]"
      ],
      "metadata": {
        "id": "mmc-Oefvxon1"
      },
      "execution_count": 14,
      "outputs": []
    },
    {
      "cell_type": "markdown",
      "source": [
        "## 5. Visualization"
      ],
      "metadata": {
        "id": "Z8t9017dP-Lu"
      }
    },
    {
      "cell_type": "code",
      "source": [
        "def plot_tree(node, depth=0, parent=None, pos=None):\n",
        "    if isinstance(node, dict):\n",
        "        feature_index = node['feature_index']\n",
        "        threshold = node['threshold']\n",
        "\n",
        "        plt.text(pos[0], pos[1], f'X[{feature_index}] <= {threshold}', ha='center', bbox=dict(facecolor='white', edgecolor='black'))\n",
        "\n",
        "        left_pos = (pos[0] - 1 / (depth + 1), pos[1] - 1)\n",
        "        right_pos = (pos[0] + 1 / (depth + 1), pos[1] - 1)\n",
        "\n",
        "        plt.plot([pos[0], left_pos[0]], [pos[1], left_pos[1]], 'k-')\n",
        "        plt.plot([pos[0], right_pos[0]], [pos[1], right_pos[1]], 'k-')\n",
        "\n",
        "        plot_tree(node['left'], depth + 1, node, left_pos)\n",
        "        plot_tree(node['right'], depth + 1, node, right_pos)\n",
        "    else:\n",
        "        plt.text(pos[0], pos[1], f'Class: {node}', ha='center', bbox=dict(facecolor='lightgray', edgecolor='black'))"
      ],
      "metadata": {
        "id": "57-3oyK_QCnU"
      },
      "execution_count": 15,
      "outputs": []
    },
    {
      "cell_type": "code",
      "source": [
        "def visualize_decision_tree(tree):\n",
        "    plt.figure(figsize=(12, 8))\n",
        "    plot_tree(tree.tree, depth=0, pos=(0, 0))\n",
        "    plt.title('Decision Tree Visualization')\n",
        "    plt.axis('off')\n",
        "    plt.show()"
      ],
      "metadata": {
        "id": "tQ1Ys03jQO3n"
      },
      "execution_count": 16,
      "outputs": []
    },
    {
      "cell_type": "code",
      "source": [
        "visualize_decision_tree(tree)"
      ],
      "metadata": {
        "colab": {
          "base_uri": "https://localhost:8080/",
          "height": 675
        },
        "id": "WK-mQEAxQWEg",
        "outputId": "2fc9d860-1ac6-4f8b-9821-1f43e6565bcb"
      },
      "execution_count": 21,
      "outputs": [
        {
          "output_type": "display_data",
          "data": {
            "text/plain": [
              "<Figure size 1200x800 with 1 Axes>"
            ],
            "image/png": "[encoded data removed]"
          },
          "metadata": {}
        }
      ]
    },
    {
      "cell_type": "markdown",
      "source": [
        "## 6. Evaluation"
      ],
      "metadata": {
        "id": "PCdp4pC5xPa3"
      }
    },
    {
      "cell_type": "code",
      "source": [
        "def evaluate_model(model, X_test, y_test):\n",
        "      y_pred = model.predict(X_test)\n",
        "      accuracy = accuracy_score(y_test, y_pred)\n",
        "      precision = precision_score(y_test, y_pred, average='weighted')\n",
        "      recall = recall_score(y_test, y_pred, average='weighted')\n",
        "      f1 = f1_score(y_test, y_pred, average='weighted')\n",
        "\n",
        "      print(f'Accuracy: {accuracy}')\n",
        "      print(f'Precision: {precision}')\n",
        "      print(f'Recall: {recall}')\n",
        "      print(f'F1-Score: {f1}')\n",
        "\n",
        "tree = DecisionTree(criterion='gini', max_depth=3)\n",
        "tree.fit(X_train, y_train)\n",
        "evaluate_model(tree, X_test, y_test)"
      ],
      "metadata": {
        "id": "Y2cHwQSwxPC8",
        "colab": {
          "base_uri": "https://localhost:8080/"
        },
        "outputId": "4455e6eb-0d4d-4946-c0e3-7433f83529c0"
      },
      "execution_count": 22,
      "outputs": [
        {
          "output_type": "stream",
          "name": "stdout",
          "text": [
            "Accuracy: 0.94\n",
            "Precision: 0.9485714285714286\n",
            "Recall: 0.94\n",
            "F1-Score: 0.9392042440318303\n"
          ]
        }
      ]
    }
  ]
}