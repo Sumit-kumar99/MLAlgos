{
  "nbformat": 4,
  "nbformat_minor": 0,
  "metadata": {
    "colab": {
      "provenance": []
    },
    "kernelspec": {
      "name": "python3",
      "display_name": "Python 3"
    },
    "language_info": {
      "name": "python"
    }
  },
  "cells": [
    {
      "cell_type": "markdown",
      "source": [
        "**Importing Libraries**"
      ],
      "metadata": {
        "id": "7djoGt_8ItFS"
      }
    },
    {
      "cell_type": "code",
      "execution_count": 1,
      "metadata": {
        "id": "LOkz2j7tG4UQ"
      },
      "outputs": [],
      "source": [
        "import pandas as pd\n",
        "import numpy as np\n",
        "import matplotlib.pyplot as plt\n",
        "from collections import Counter\n",
        "\n",
        "# importing sklearn for for train-test split and evaluation metrics only\n",
        "from sklearn.model_selection import train_test_split\n",
        "from sklearn.metrics import accuracy_score, precision_score, recall_score, f1_score, roc_curve, auc"
      ]
    },
    {
      "cell_type": "code",
      "source": [
        "df = pd.read_csv('heart_disease.csv')\n",
        "X = df.drop('target', axis=1).values\n",
        "y = df['target'].values"
      ],
      "metadata": {
        "id": "XTdfYpCQHsTX"
      },
      "execution_count": 2,
      "outputs": []
    },
    {
      "cell_type": "markdown",
      "source": [
        "**Train-Test split**"
      ],
      "metadata": {
        "id": "3pJuZJOkIxo-"
      }
    },
    {
      "cell_type": "code",
      "source": [
        "X_train, X_test, y_train, y_test = train_test_split(X, y, test_size=0.3, random_state=42)"
      ],
      "metadata": {
        "id": "aGYuIXySHsRH"
      },
      "execution_count": 3,
      "outputs": []
    },
    {
      "cell_type": "code",
      "source": [
        "def entropy(y):\n",
        "    counter = Counter(y)\n",
        "    total = len(y)\n",
        "    entropy = -sum((count / total) * np.log2(count / total) for count in counter.values())\n",
        "    return entropy"
      ],
      "metadata": {
        "id": "An8GS30qHyxM"
      },
      "execution_count": 4,
      "outputs": []
    },
    {
      "cell_type": "code",
      "source": [
        "def information_gain(y, y_left, y_right):\n",
        "    parent_entropy = entropy(y)\n",
        "    weight_left = len(y_left) / len(y)\n",
        "    weight_right = len(y_right) / len(y)\n",
        "    gain = parent_entropy - (weight_left * entropy(y_left) + weight_right * entropy(y_right))\n",
        "    return gain"
      ],
      "metadata": {
        "id": "w3B1imgtHyuy"
      },
      "execution_count": 5,
      "outputs": []
    },
    {
      "cell_type": "code",
      "source": [
        "def split_data(X, y, feature_index, threshold):\n",
        "    left_indices = np.where(X[:, feature_index] <= threshold)[0]\n",
        "    right_indices = np.where(X[:, feature_index] > threshold)[0]\n",
        "    return X[left_indices], X[right_indices], y[left_indices], y[right_indices]"
      ],
      "metadata": {
        "id": "g-CaEqshHysW"
      },
      "execution_count": 6,
      "outputs": []
    },
    {
      "cell_type": "code",
      "source": [
        "class DecisionTree:\n",
        "    def __init__(self, max_depth=None):\n",
        "        self.max_depth = max_depth\n",
        "        self.tree = None\n",
        "\n",
        "    def fit(self, X, y):\n",
        "        self.tree = self._build_tree(X, y, depth=0)\n",
        "\n",
        "    def _best_split(self, X, y, features):\n",
        "        best_gain = -1\n",
        "        best_split = None\n",
        "        for feature_index in features:\n",
        "            thresholds = np.unique(X[:, feature_index])\n",
        "            for threshold in thresholds:\n",
        "                X_left, X_right, y_left, y_right = split_data(X, y, feature_index, threshold)\n",
        "                if len(y_left) == 0 or len(y_right) == 0:\n",
        "                    continue\n",
        "                gain = information_gain(y, y_left, y_right)\n",
        "                if gain > best_gain:\n",
        "                    best_gain = gain\n",
        "                    best_split = {\n",
        "                        'feature_index': feature_index,\n",
        "                        'threshold': threshold,\n",
        "                        'left': (X_left, y_left),\n",
        "                        'right': (X_right, y_right)\n",
        "                    }\n",
        "        return best_split\n",
        "\n",
        "    def _build_tree(self, X, y, depth):\n",
        "        if depth == self.max_depth or len(set(y)) == 1:\n",
        "            return Counter(y).most_common(1)[0][0]\n",
        "        features = np.random.choice(X.shape[1], size=int(np.sqrt(X.shape[1])), replace=False)\n",
        "        best_split = self._best_split(X, y, features)\n",
        "        if not best_split:\n",
        "            return Counter(y).most_common(1)[0][0]\n",
        "        left_subtree = self._build_tree(*best_split['left'], depth + 1)\n",
        "        right_subtree = self._build_tree(*best_split['right'], depth + 1)\n",
        "        return {\n",
        "            'feature_index': best_split['feature_index'],\n",
        "            'threshold': best_split['threshold'],\n",
        "            'left': left_subtree,\n",
        "            'right': right_subtree\n",
        "        }\n",
        "\n",
        "    def _predict(self, inputs, node):\n",
        "        if not isinstance(node, dict):\n",
        "            return node\n",
        "        feature_index = node['feature_index']\n",
        "        threshold = node['threshold']\n",
        "        if inputs[feature_index] <= threshold:\n",
        "            return self._predict(inputs, node['left'])\n",
        "        else:\n",
        "            return self._predict(inputs, node['right'])\n",
        "\n",
        "    def predict(self, X):\n",
        "        return [self._predict(inputs, self.tree) for inputs in X]"
      ],
      "metadata": {
        "id": "HB1gRlmMYiTK"
      },
      "execution_count": 7,
      "outputs": []
    },
    {
      "cell_type": "code",
      "source": [
        "class RandomForest:\n",
        "    def __init__(self, n_trees=10, max_depth=None):\n",
        "        self.n_trees = n_trees\n",
        "        self.max_depth = max_depth\n",
        "        self.trees = []\n",
        "\n",
        "    def _bootstrap_sample(self, X, y):\n",
        "        n_samples = X.shape[0]\n",
        "        indices = np.random.choice(n_samples, size=n_samples, replace=True)\n",
        "        return X[indices], y[indices]\n",
        "\n",
        "    def fit(self, X, y):\n",
        "        for _ in range(self.n_trees):\n",
        "            tree = DecisionTree(max_depth=self.max_depth)\n",
        "            X_sample, y_sample = self._bootstrap_sample(X, y)\n",
        "            tree.fit(X_sample, y_sample)\n",
        "            self.trees.append(tree)\n",
        "\n",
        "    def predict(self, X):\n",
        "        tree_predictions = np.array([tree.predict(X) for tree in self.trees])\n",
        "        final_predictions = [Counter(tree_predictions[:, i]).most_common(1)[0][0] for i in range(X.shape[0])]\n",
        "        return final_predictions"
      ],
      "metadata": {
        "id": "iG45w1rAHDjR"
      },
      "execution_count": 8,
      "outputs": []
    },
    {
      "cell_type": "markdown",
      "source": [
        "**Model Evaluation Metrics**"
      ],
      "metadata": {
        "id": "Hhon9piCI3MW"
      }
    },
    {
      "cell_type": "code",
      "source": [
        "def evaluate_model(model, X_test, y_test):\n",
        "    y_pred = model.predict(X_test)\n",
        "    accuracy = accuracy_score(y_test, y_pred)\n",
        "    precision = precision_score(y_test, y_pred)\n",
        "    recall = recall_score(y_test, y_pred)\n",
        "    f1 = f1_score(y_test, y_pred)\n",
        "\n",
        "    fpr, tpr, _ = roc_curve(y_test, y_pred)\n",
        "    roc_auc = auc(fpr, tpr)\n",
        "\n",
        "    print(f'Accuracy: {accuracy}')\n",
        "    print(f'Precision: {precision}')\n",
        "    print(f'Recall: {recall}')\n",
        "    print(f'f1-Score: {f1}')\n",
        "    print(f'AUC: {roc_auc}')\n",
        "\n",
        "    plt.figure()\n",
        "    plt.plot(fpr, tpr, color='orange', lw=2)\n",
        "    plt.plot([0, 1], [0, 1], color='blue', lw=2, linestyle='--')\n",
        "    plt.xlim([0.0, 1.0])\n",
        "    plt.ylim([0.0, 1.05])\n",
        "    plt.xlabel('False Positive Rate')\n",
        "    plt.ylabel('True Positive Rate')\n",
        "    plt.title('ROC Curve')\n",
        "    plt.grid()\n",
        "    plt.show()"
      ],
      "metadata": {
        "id": "tkE1V1hlHDgx"
      },
      "execution_count": 10,
      "outputs": []
    },
    {
      "cell_type": "code",
      "source": [
        "rf = RandomForest(n_trees=15, max_depth=7)\n",
        "rf.fit(X_train, y_train)\n",
        "evaluate_model(rf, X_test, y_test)"
      ],
      "metadata": {
        "colab": {
          "base_uri": "https://localhost:8080/",
          "height": 559
        },
        "id": "y-3IiWzUHDeW",
        "outputId": "f6ba0933-0268-42c2-99d7-73e7f2bb38ad"
      },
      "execution_count": 11,
      "outputs": [
        {
          "output_type": "stream",
          "name": "stdout",
          "text": [
            "Accuracy: 0.8571428571428571\n",
            "Precision: 0.8775510204081632\n",
            "Recall: 0.86\n",
            "f1-Score: 0.8686868686868687\n",
            "AUC: 0.8568292682926828\n"
          ]
        },
        {
          "output_type": "display_data",
          "data": {
            "text/plain": [
              "<Figure size 640x480 with 1 Axes>"
            ],
            "image/png": "[encoded data removed]"
          },
          "metadata": {}
        }
      ]
    }
  ]
}